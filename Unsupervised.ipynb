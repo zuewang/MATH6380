{
 "cells": [
  {
   "cell_type": "markdown",
   "metadata": {},
   "source": [
    "# Load data"
   ]
  },
  {
   "cell_type": "code",
   "execution_count": 1,
   "metadata": {},
   "outputs": [],
   "source": [
    "from dataloader import DataLoader"
   ]
  },
  {
   "cell_type": "code",
   "execution_count": 2,
   "metadata": {},
   "outputs": [
    {
     "name": "stdout",
     "output_type": "stream",
     "text": [
      "number of good images: 27000  number of bad images: 3000  number of test images: 3000\n",
      "train data: (30000, 224, 224, 3)\n",
      "validation data: (0, 224, 224, 3)\n",
      "test data: (3000, 224, 224, 3)\n",
      "train labels: (30000,)\n",
      "validation labels: (0,)\n"
     ]
    }
   ],
   "source": [
    "dataloader = DataLoader('/data0/semi-conductor-image-classification-first')\n",
    "train_ratio = 1\n",
    "data = dataloader.get_data(train_ratio)\n",
    "print('train data:', data['train_data'].shape)\n",
    "print('validation data:', data['validation_data'].shape)\n",
    "print('test data:', data['test_data'].shape)\n",
    "print('train labels:', data['train_labels'].shape)\n",
    "print('validation labels:', data['validation_labels'].shape)"
   ]
  },
  {
   "cell_type": "markdown",
   "metadata": {},
   "source": [
    "# K-means"
   ]
  },
  {
   "cell_type": "code",
   "execution_count": 17,
   "metadata": {
    "scrolled": true
   },
   "outputs": [],
   "source": [
    "import torchvision.models as models\n",
    "import torch\n",
    "import numpy as np\n",
    "import math\n",
    "from sklearn.cluster import KMeans\n",
    "\n",
    "device = torch.device(\"cuda:0\" if torch.cuda.is_available() else \"cpu\")\n",
    "data_train = np.transpose(data['train_data'], (0,3,1,2))\n",
    "\n",
    "batch_size = 256\n",
    "num_train = data_train.shape[0]"
   ]
  },
  {
   "cell_type": "code",
   "execution_count": 22,
   "metadata": {
    "scrolled": true
   },
   "outputs": [
    {
     "name": "stdout",
     "output_type": "stream",
     "text": [
      "(30000, 1000)\n",
      "0.49296666666666666 0.5070333333333333 0.49296666666666666\n"
     ]
    }
   ],
   "source": [
    "resnet18 = models.resnet18(pretrained=True, progress=True)\n",
    "resnet18.to(device)\n",
    "\n",
    "for param in resnet18.parameters():\n",
    "    param.requires_grad = False\n",
    "\n",
    "# total squared error if cluster label 0 -> true label 0\n",
    "total_se00 = 0\n",
    "# if cluster label 0 -> true label 1\n",
    "total_se01 = 0\n",
    "\n",
    "X = np.array([])\n",
    "\n",
    "for i in range(math.ceil(float(num_train) / float(batch_size))):\n",
    "    batch = torch.from_numpy(data_train[batch_size*i : batch_size*(i+1)]).float().to(device)\n",
    "    labels = data['train_labels'][batch_size*i : batch_size*(i+1)]\n",
    "    # print(batch.shape)\n",
    "    features = resnet18(batch)\n",
    "    # print(features.shape)\n",
    "    \n",
    "    if X.shape[0] == 0:\n",
    "        X = features.cpu().numpy()\n",
    "    else:\n",
    "        X = np.concatenate((X, features.cpu().numpy()))\n",
    "    # X = features.cpu().numpy()\n",
    "    # kmeans = KMeans(n_clusters=2, random_state=0).fit(X)\n",
    "    \n",
    "    # total_se00 += np.sum((kmeans.labels_ - labels)**2)\n",
    "    # total_se01 += np.sum(((1-kmeans.labels_) - labels)**2)\n",
    "\n",
    "print(X.shape)\n"
   ]
  },
  {
   "cell_type": "code",
   "execution_count": 23,
   "metadata": {},
   "outputs": [
    {
     "name": "stdout",
     "output_type": "stream",
     "text": [
      "0.49296666666666666 0.5070333333333333 0.49296666666666666\n"
     ]
    }
   ],
   "source": [
    "kmeans = KMeans(n_clusters=2, random_state=0, max_iter=1000).fit(X)\n",
    "\n",
    "total_se00 = np.sum((kmeans.labels_ - data['train_labels'])**2)\n",
    "total_se01 = np.sum(((1-kmeans.labels_) - data['train_labels'])**2)\n",
    "\n",
    "mse00 = total_se00 / num_train\n",
    "mse01 = total_se01 / num_train\n",
    "mse = min(mse00, mse01)\n",
    "print(mse00, mse01, mse)"
   ]
  },
  {
   "cell_type": "markdown",
   "metadata": {},
   "source": [
    "# SVM"
   ]
  },
  {
   "cell_type": "code",
   "execution_count": 25,
   "metadata": {},
   "outputs": [],
   "source": [
    "from sklearn.svm import OneClassSVM\n",
    "clf = OneClassSVM(gamma='auto').fit(X)\n",
    "pred_svm = clf.predict(X)\n"
   ]
  },
  {
   "cell_type": "code",
   "execution_count": 33,
   "metadata": {},
   "outputs": [
    {
     "name": "stdout",
     "output_type": "stream",
     "text": [
      "0.521 0.479 0.479\n"
     ]
    }
   ],
   "source": [
    "# total squared error if cluster label 0 -> true label 0\n",
    "# if cluster label 0 -> true label 1\n",
    "pred_svm = (pred_svm + 1)/2\n",
    "svm_se00 = np.sum((pred_svm - data['train_labels'])**2)\n",
    "svm_se01 = np.sum(((1-pred_svm) - data['train_labels'])**2)\n",
    "\n",
    "svm_mse00 = svm_se00 / num_train\n",
    "svm_mse01 = svm_se01 / num_train\n",
    "svm_mse = min(svm_mse00, svm_mse01)\n",
    "print(svm_mse00, svm_mse01, svm_mse)"
   ]
  },
  {
   "cell_type": "code",
   "execution_count": 34,
   "metadata": {},
   "outputs": [
    {
     "name": "stdout",
     "output_type": "stream",
     "text": [
      "[1. 1. 1. ... 0. 1. 1.]\n",
      "[0 0 0 ... 0 0 0]\n",
      "0.479\n"
     ]
    }
   ],
   "source": [
    "accuracy = pred_svm == data['train_labels']\n",
    "print(pred_svm)\n",
    "print(data['train_labels'])\n",
    "accuracy = np.sum(accuracy) / num_train\n",
    "print(accuracy)\n"
   ]
  },
  {
   "cell_type": "code",
   "execution_count": null,
   "metadata": {},
   "outputs": [],
   "source": []
  }
 ],
 "metadata": {
  "kernelspec": {
   "display_name": "Python 3",
   "language": "python",
   "name": "python3"
  },
  "language_info": {
   "codemirror_mode": {
    "name": "ipython",
    "version": 3
   },
   "file_extension": ".py",
   "mimetype": "text/x-python",
   "name": "python",
   "nbconvert_exporter": "python",
   "pygments_lexer": "ipython3",
   "version": "3.7.4"
  }
 },
 "nbformat": 4,
 "nbformat_minor": 2
}
